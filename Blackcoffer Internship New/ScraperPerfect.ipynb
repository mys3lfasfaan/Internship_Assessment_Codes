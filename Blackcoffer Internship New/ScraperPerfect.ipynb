{
 "cells": [
  {
   "cell_type": "code",
   "execution_count": 1,
   "metadata": {},
   "outputs": [],
   "source": [
    "import time\n",
    "import pandas as pd\n",
    "\n",
    "from selenium.webdriver.common.by import By\n",
    "from selenium import webdriver\n",
    "from selenium.webdriver.chrome.service import Service\n",
    "from webdriver_manager.chrome import ChromeDriverManager\n",
    "from selenium.webdriver.common.keys import Keys\n",
    "\n",
    "import os"
   ]
  },
  {
   "cell_type": "code",
   "execution_count": 2,
   "metadata": {},
   "outputs": [],
   "source": [
    "directory = \"C:\\\\Users\\\\Asfaan Hussain\\\\Desktop\\\\INTERNSHALA\\\\Blackcoffer Internship New\\\\TextFiles\"\n",
    "\n",
    "data = pd.read_excel(\"C:\\\\Users\\\\Asfaan Hussain\\\\Desktop\\\\INTERNSHALA\\\\Blackcoffer Internship New\\\\Input.xlsx\")\n",
    "url = data.URL.to_list()\n",
    "url_id = data.URL_ID.to_list()\n",
    "url_id = [int(x) if x%int(x) == 0 else x for x in url_id]"
   ]
  },
  {
   "cell_type": "code",
   "execution_count": 3,
   "metadata": {},
   "outputs": [],
   "source": [
    "driver = webdriver.Chrome(service=Service(ChromeDriverManager().install()))\n",
    "driver.get(\"https://www.google.com\")"
   ]
  },
  {
   "cell_type": "code",
   "execution_count": 5,
   "metadata": {},
   "outputs": [
    {
     "name": "stdout",
     "output_type": "stream",
     "text": [
      "Error File no :  11668\n",
      "Error File no :  17671.4\n"
     ]
    }
   ],
   "source": [
    "for i, j in zip(url_id, url):\n",
    "    \n",
    "    driver.get(j)\n",
    "    \n",
    "    try:\n",
    "        title = driver.find_element(By.XPATH, value=\"/html/body/div[6]/article/div[1]/div[1]/div[2]/div[2]/header/h1\")\n",
    "        paragraphs = driver.find_element(By.CLASS_NAME, value=\"td-post-content\")\n",
    "    except Exception:\n",
    "        try:\n",
    "            title = driver.find_element(By.XPATH, value=\"/html/body/div[6]/div[2]/div/div/article/div/div/div[2]/div/div[1]/div/div[4]/div/h1\")\n",
    "            paragraphs = driver.find_element(By.CLASS_NAME, value=\"td-post-content\")\n",
    "        except Exception:\n",
    "            print(\"Error File no : \", i)\n",
    "\n",
    "    filename = '{}.txt'.format(i)\n",
    "    filepath = os.path.join(directory, filename)\n",
    "    \n",
    "    try:\n",
    "        content = title.text, \"\\n\\n\", paragraphs.text\n",
    "        with open(filepath, 'w', encoding = \"utf-8\") as file:\n",
    "            file.writelines(content)\n",
    "    except Exception:\n",
    "        content = \"\"\n",
    "        with open(filepath, 'w', encoding = \"utf-8\") as file:\n",
    "            file.writelines(content)\n",
    "            \n",
    "    file.close()"
   ]
  },
  {
   "cell_type": "code",
   "execution_count": 6,
   "metadata": {},
   "outputs": [],
   "source": [
    "driver.close()"
   ]
  }
 ],
 "metadata": {
  "kernelspec": {
   "display_name": "Python 3",
   "language": "python",
   "name": "python3"
  },
  "language_info": {
   "codemirror_mode": {
    "name": "ipython",
    "version": 3
   },
   "file_extension": ".py",
   "mimetype": "text/x-python",
   "name": "python",
   "nbconvert_exporter": "python",
   "pygments_lexer": "ipython3",
   "version": "3.9.0"
  }
 },
 "nbformat": 4,
 "nbformat_minor": 2
}

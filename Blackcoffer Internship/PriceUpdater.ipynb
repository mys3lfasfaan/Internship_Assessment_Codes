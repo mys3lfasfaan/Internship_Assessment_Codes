{
 "cells": [
  {
   "cell_type": "code",
   "execution_count": 9,
   "metadata": {},
   "outputs": [],
   "source": [
    "import time\n",
    "import pandas as pd\n",
    "from selenium.webdriver.common.by import By\n",
    "import datetime\n",
    "\n",
    "current_date = datetime.date.today()\n",
    "payment_month_text = current_date.strftime(\"%B %Y\")"
   ]
  },
  {
   "cell_type": "code",
   "execution_count": 10,
   "metadata": {},
   "outputs": [],
   "source": [
    "df = pd.read_excel(\"C:/Users/Asfaan Hussain/Desktop/ABBU KE CHEZAN/LightBillAuto.xlsx\")"
   ]
  },
  {
   "cell_type": "code",
   "execution_count": 11,
   "metadata": {},
   "outputs": [],
   "source": [
    "Meters = df['Meter No. 2'].to_list()"
   ]
  },
  {
   "cell_type": "code",
   "execution_count": 12,
   "metadata": {},
   "outputs": [],
   "source": [
    "from selenium import webdriver\n",
    "from selenium.webdriver.chrome.service import Service\n",
    "from webdriver_manager.chrome import ChromeDriverManager\n",
    "from selenium.webdriver.common.keys import Keys"
   ]
  },
  {
   "cell_type": "code",
   "execution_count": 14,
   "metadata": {},
   "outputs": [
    {
     "name": "stdout",
     "output_type": "stream",
     "text": [
      "No bills pending for payment. Please enter amount for advance payment.\n",
      "No bills pending for payment. Please enter amount for advance payment.\n",
      "No bills pending for payment. Please enter amount for advance payment.\n",
      "No bills pending for payment. Please enter amount for advance payment.\n",
      "In case you wish to change the details of your request please click on 'Back', please verify your details and click on 'Submit' below\n",
      "In case you wish to change the details of your request please click on 'Back', please verify your details and click on 'Submit' below\n",
      "In case you wish to change the details of your request please click on 'Back', please verify your details and click on 'Submit' below\n",
      "In case you wish to change the details of your request please click on 'Back', please verify your details and click on 'Submit' below\n",
      "No bills pending for payment. Please enter amount for advance payment.\n",
      "No bills pending for payment. Please enter amount for advance payment.\n",
      "No bills pending for payment. Please enter amount for advance payment.\n"
     ]
    }
   ],
   "source": [
    "driver = webdriver.Chrome(service=Service(ChromeDriverManager().install()))\n",
    "driver.get(\"https://www.google.com\")\n",
    "amount_list = []\n",
    "bill_dates = []\n",
    "due_dates = []\n",
    "count = 0\n",
    "\n",
    "for meter in Meters:\n",
    "    \n",
    "    driver.get(\"https://www.billdesk.com/pgidsk/pgmerc/tsspdclpgi/TSSPDCLPGIDetails.jsp\")\n",
    "    field = driver.find_element(By.NAME, value = \"uscno\")\n",
    "    field.send_keys(meter)\n",
    "\n",
    "    email = \"asf2087@gmail.com\"\n",
    "    emailID = driver.find_element(By.NAME, value = \"txtEmailID\")\n",
    "    emailID.send_keys(email)\n",
    "\n",
    "    submit = driver.find_element(By.NAME, value = 'makePayment')\n",
    "    submit.click()\n",
    "    \n",
    "    message_field = driver.find_element(By.CLASS_NAME, value = 'message')\n",
    "    print(message_field.text)\n",
    "    \n",
    "    if message_field.text == 'No bills pending for payment. Please enter amount for advance payment.':\n",
    "    \n",
    "        bill_date = df.loc[count,'Bill Date {}'.format(payment_month_text)]\n",
    "        bill_dates.append(bill_date)\n",
    "        \n",
    "        due_date = df.loc[count,'Due Date {}'.format(payment_month_text)]\n",
    "        due_dates.append(due_date)\n",
    "    \n",
    "        amount_to_pay = df.loc[count,'Amount {}'.format(payment_month_text)]\n",
    "        amount_list.append(amount_to_pay)\n",
    "        count = count + 1\n",
    "        continue\n",
    "    \n",
    "    bill_date_field = driver.find_element(By.NAME, value = 'bill_date')\n",
    "    bill_date = bill_date_field.get_attribute(\"value\")\n",
    "    bill_dates.append(bill_date)\n",
    "    \n",
    "    due_date_field = driver.find_element(By.NAME, value = 'due_date')\n",
    "    due_date = due_date_field.get_attribute(\"value\")\n",
    "    due_dates.append(due_date)\n",
    "\n",
    "    amount_to_pay_field = driver.find_element(By.NAME, value=\"txtTxnAmount\")\n",
    "    amount_to_pay = float(amount_to_pay_field.get_attribute(\"value\"))\n",
    "    amount_list.append(amount_to_pay)\n",
    "    count = count + 1\n",
    "driver.close()"
   ]
  },
  {
   "cell_type": "code",
   "execution_count": 15,
   "metadata": {},
   "outputs": [
    {
     "name": "stdout",
     "output_type": "stream",
     "text": [
      "[nan, nan, nan, nan, 2390.0, 3006.0, 864.0, 5407.0, nan, nan, nan]\n",
      "['04/09/23', '04/09/23', '04/09/23', '04/09/23', '04/09/23', '04/09/23', '04/09/23', '04/09/23', '04/09/23', '04/09/23', '04/09/23']\n",
      "['18/09/23', '18/09/23', '18/09/23', '18/09/23', '18/09/23', '18/09/23', '18/09/23', '18/09/23', '18/09/23', '18/09/23', '18/09/23']\n"
     ]
    }
   ],
   "source": [
    "print(amount_list)\n",
    "print(bill_dates)\n",
    "print(due_dates)"
   ]
  },
  {
   "cell_type": "code",
   "execution_count": 16,
   "metadata": {},
   "outputs": [],
   "source": [
    "df['Bill Date {}'.format(payment_month_text)] = bill_dates\n",
    "df['Due Date {}'.format(payment_month_text)] = due_dates\n",
    "df['Amount {}'.format(payment_month_text)] = amount_list"
   ]
  },
  {
   "cell_type": "code",
   "execution_count": 17,
   "metadata": {},
   "outputs": [],
   "source": [
    "file_path = \"C:/Users/Asfaan Hussain/Desktop/ABBU KE CHEZAN/LightBillAuto.xlsx\"\n",
    "df.to_excel(file_path, index=False)"
   ]
  }
 ],
 "metadata": {
  "kernelspec": {
   "display_name": "Python 3",
   "language": "python",
   "name": "python3"
  },
  "language_info": {
   "codemirror_mode": {
    "name": "ipython",
    "version": 3
   },
   "file_extension": ".py",
   "mimetype": "text/x-python",
   "name": "python",
   "nbconvert_exporter": "python",
   "pygments_lexer": "ipython3",
   "version": "3.9.0"
  },
  "orig_nbformat": 4
 },
 "nbformat": 4,
 "nbformat_minor": 2
}
